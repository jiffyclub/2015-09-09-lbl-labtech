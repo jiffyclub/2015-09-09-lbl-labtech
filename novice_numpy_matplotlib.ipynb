{
 "cells": [
  {
   "cell_type": "markdown",
   "metadata": {},
   "source": [
    "# Reading in Data from a Text File"
   ]
  },
  {
   "cell_type": "markdown",
   "metadata": {},
   "source": [
    "## Standard Library"
   ]
  },
  {
   "cell_type": "code",
   "execution_count": 3,
   "metadata": {
    "collapsed": false
   },
   "outputs": [],
   "source": [
    "import numpy as np"
   ]
  },
  {
   "cell_type": "code",
   "execution_count": 4,
   "metadata": {
    "collapsed": false
   },
   "outputs": [],
   "source": [
    "def read_using_standard_library(filename):\n",
    "    with open(filename, 'r') as open_file: #Open file in read only mode\n",
    "        #Make a list where each element is a string containing one line in the file\n",
    "        all_lines = open_file.readlines()\n",
    "    #Initialize blank lists\n",
    "    date = []\n",
    "    storage_level = []\n",
    "    for iline in all_lines:\n",
    "        #ignore header\n",
    "        if iline[0] != '#':\n",
    "            #Split line on blank space (can supply an argument if you want something different (like comma))\n",
    "            split_line = iline.split()\n",
    "            #Append date and storage_level to appropriate lists\n",
    "            date.append(split_line[0])\n",
    "            storage_level.append(float(split_line[1])) #convert string to floating point before appending\n",
    "    #Convert lists to numpy arrays\n",
    "    date = np.array(date)\n",
    "    storage_level = np.array(storage_level)\n",
    "    return date, storage_level"
   ]
  },
  {
   "cell_type": "code",
   "execution_count": 5,
   "metadata": {
    "collapsed": false
   },
   "outputs": [
    {
     "name": "stdout",
     "output_type": "stream",
     "text": [
      "['01/2006' '02/2006' '03/2006' '04/2006' '05/2006' '06/2006' '07/2006'\n",
      " '08/2006' '09/2006' '10/2006' '11/2006' '12/2006']\n",
      "[ 22430.  22430.  22430.  22430.  22395.  21995.  21445.  21292.  20869.\n",
      "  20698.  20809.  22430.]\n"
     ]
    }
   ],
   "source": [
    "nicasio_2006_date, nicasio_2006_storage = read_using_standard_library('data/n6.txt')\n",
    "print nicasio_2006_date\n",
    "print nicasio_2006_storage"
   ]
  },
  {
   "cell_type": "markdown",
   "metadata": {},
   "source": [
    "------------------------"
   ]
  },
  {
   "cell_type": "markdown",
   "metadata": {},
   "source": [
    "# Numpy"
   ]
  },
  {
   "cell_type": "markdown",
   "metadata": {},
   "source": [
    "--------------------"
   ]
  },
  {
   "cell_type": "markdown",
   "metadata": {},
   "source": [
    "## Read using Numpy"
   ]
  },
  {
   "cell_type": "code",
   "execution_count": 6,
   "metadata": {
    "collapsed": false
   },
   "outputs": [
    {
     "ename": "ValueError",
     "evalue": "invalid literal for float(): 01/2006",
     "output_type": "error",
     "traceback": [
      "\u001b[0;31m---------------------------------------------------------------------------\u001b[0m\n\u001b[0;31mValueError\u001b[0m                                Traceback (most recent call last)",
      "\u001b[0;32m<ipython-input-6-c72731441627>\u001b[0m in \u001b[0;36m<module>\u001b[0;34m()\u001b[0m\n\u001b[1;32m      1\u001b[0m \u001b[0;31m#Without any keywords, numpy assumes everything is a float and cannot convert\u001b[0m\u001b[0;34m\u001b[0m\u001b[0;34m\u001b[0m\u001b[0m\n\u001b[0;32m----> 2\u001b[0;31m \u001b[0mnp\u001b[0m\u001b[0;34m.\u001b[0m\u001b[0mloadtxt\u001b[0m\u001b[0;34m(\u001b[0m\u001b[0;34m'data/n6.txt'\u001b[0m\u001b[0;34m)\u001b[0m\u001b[0;34m\u001b[0m\u001b[0m\n\u001b[0m",
      "\u001b[0;32m/Users/abostroem/anaconda/lib/python2.7/site-packages/numpy/lib/npyio.pyc\u001b[0m in \u001b[0;36mloadtxt\u001b[0;34m(fname, dtype, comments, delimiter, converters, skiprows, usecols, unpack, ndmin)\u001b[0m\n\u001b[1;32m    846\u001b[0m                 \u001b[0mvals\u001b[0m \u001b[0;34m=\u001b[0m \u001b[0;34m[\u001b[0m\u001b[0mvals\u001b[0m\u001b[0;34m[\u001b[0m\u001b[0mi\u001b[0m\u001b[0;34m]\u001b[0m \u001b[0;32mfor\u001b[0m \u001b[0mi\u001b[0m \u001b[0;32min\u001b[0m \u001b[0musecols\u001b[0m\u001b[0;34m]\u001b[0m\u001b[0;34m\u001b[0m\u001b[0m\n\u001b[1;32m    847\u001b[0m             \u001b[0;31m# Convert each value according to its column and store\u001b[0m\u001b[0;34m\u001b[0m\u001b[0;34m\u001b[0m\u001b[0m\n\u001b[0;32m--> 848\u001b[0;31m             \u001b[0mitems\u001b[0m \u001b[0;34m=\u001b[0m \u001b[0;34m[\u001b[0m\u001b[0mconv\u001b[0m\u001b[0;34m(\u001b[0m\u001b[0mval\u001b[0m\u001b[0;34m)\u001b[0m \u001b[0;32mfor\u001b[0m \u001b[0;34m(\u001b[0m\u001b[0mconv\u001b[0m\u001b[0;34m,\u001b[0m \u001b[0mval\u001b[0m\u001b[0;34m)\u001b[0m \u001b[0;32min\u001b[0m \u001b[0mzip\u001b[0m\u001b[0;34m(\u001b[0m\u001b[0mconverters\u001b[0m\u001b[0;34m,\u001b[0m \u001b[0mvals\u001b[0m\u001b[0;34m)\u001b[0m\u001b[0;34m]\u001b[0m\u001b[0;34m\u001b[0m\u001b[0m\n\u001b[0m\u001b[1;32m    849\u001b[0m             \u001b[0;31m# Then pack it according to the dtype's nesting\u001b[0m\u001b[0;34m\u001b[0m\u001b[0;34m\u001b[0m\u001b[0m\n\u001b[1;32m    850\u001b[0m             \u001b[0mitems\u001b[0m \u001b[0;34m=\u001b[0m \u001b[0mpack_items\u001b[0m\u001b[0;34m(\u001b[0m\u001b[0mitems\u001b[0m\u001b[0;34m,\u001b[0m \u001b[0mpacking\u001b[0m\u001b[0;34m)\u001b[0m\u001b[0;34m\u001b[0m\u001b[0m\n",
      "\u001b[0;31mValueError\u001b[0m: invalid literal for float(): 01/2006"
     ]
    }
   ],
   "source": [
    "#Without any keywords, numpy assumes everything is a float and cannot convert\n",
    "np.loadtxt('data/n6.txt')"
   ]
  },
  {
   "cell_type": "code",
   "execution_count": 7,
   "metadata": {
    "collapsed": false
   },
   "outputs": [
    {
     "data": {
      "text/plain": [
       "array([('01/2006', 22430.0), ('02/2006', 22430.0), ('03/2006', 22430.0),\n",
       "       ('04/2006', 22430.0), ('05/2006', 22395.0), ('06/2006', 21995.0),\n",
       "       ('07/2006', 21445.0), ('08/2006', 21292.0), ('09/2006', 20869.0),\n",
       "       ('10/2006', 20698.0), ('11/2006', 20809.0), ('12/2006', 22430.0)], \n",
       "      dtype=[('date', 'S7'), ('storage', '<f8')])"
      ]
     },
     "execution_count": 7,
     "metadata": {},
     "output_type": "execute_result"
    }
   ],
   "source": [
    "#Without unpack, you get tuples of the row\n",
    "np.loadtxt('data/n6.txt', dtype={'names': ['date', 'storage'], \n",
    "                                 'formats': ['S7', 'f8']})"
   ]
  },
  {
   "cell_type": "code",
   "execution_count": 8,
   "metadata": {
    "collapsed": false
   },
   "outputs": [],
   "source": [
    "#With unpack, you get each column back\n",
    "nicasio_2006_date, nicasio_2006_storage = np.loadtxt('data/n6.txt', unpack = True,  \n",
    "                                                        dtype={'names': ['date', 'storage'], \n",
    "                                                               'formats': ['S7', 'f8']})\n"
   ]
  },
  {
   "cell_type": "code",
   "execution_count": 9,
   "metadata": {
    "collapsed": false
   },
   "outputs": [
    {
     "name": "stdout",
     "output_type": "stream",
     "text": [
      "date =  ['01/2006' '02/2006' '03/2006' '04/2006' '05/2006' '06/2006' '07/2006'\n",
      " '08/2006' '09/2006' '10/2006' '11/2006' '12/2006']\n",
      "storage =  [ 22430.  22430.  22430.  22430.  22395.  21995.  21445.  21292.  20869.\n",
      "  20698.  20809.  22430.]\n"
     ]
    }
   ],
   "source": [
    "print 'date = ', nicasio_2006_date\n",
    "print 'storage = ', nicasio_2006_storage"
   ]
  },
  {
   "cell_type": "markdown",
   "metadata": {},
   "source": [
    "### Other Functions:\n",
    "\n",
    "There are other better ways to read files, but these are specific to the file format and some are field specific.\n",
    "\n",
    "I use <b><code>ascii</code></b> in the <b><code>astropy.io</code></b> package\n",
    "\n",
    "You will see <b><code>pandas</code></b> in the next section"
   ]
  },
  {
   "cell_type": "markdown",
   "metadata": {},
   "source": [
    "# Math with Numpy\n",
    "\n",
    "There are many different date types in python and basic arithmatic operations such as + and \\* operate differently on different ones. Here we will look at \\* on a numpy array and a numpy matrix."
   ]
  },
  {
   "cell_type": "markdown",
   "metadata": {},
   "source": [
    "## With a Numpy Array\n",
    "\n",
    "Numpy calls largely to C libraries to perform tasks. For this reason its array math is very quick"
   ]
  },
  {
   "cell_type": "code",
   "execution_count": 11,
   "metadata": {
    "collapsed": false
   },
   "outputs": [
    {
     "name": "stdout",
     "output_type": "stream",
     "text": [
      "[ 22430.  22430.  22430.  22430.  22395.  21995.  21445.  21292.  20869.\n",
      "  20698.  20809.  22430.]\n",
      "[ 44860.  44860.  44860.  44860.  44790.  43990.  42890.  42584.  41738.\n",
      "  41396.  41618.  44860.]\n"
     ]
    }
   ],
   "source": [
    "nicasio_2006_storage_double = nicasio_2006_storage*2\n",
    "print nicasio_2006_storage\n",
    "print nicasio_2006_storage_double"
   ]
  },
  {
   "cell_type": "markdown",
   "metadata": {},
   "source": [
    "Numpy arrays operate element-wise. Note this is NOT a matrix. \n",
    "\n",
    "#### With 2D arrays\n",
    "\n",
    "Numpy also tries to guess what you want to do. For instance, if you want have a 2D array and you want to multiply every column by a number:"
   ]
  },
  {
   "cell_type": "code",
   "execution_count": 12,
   "metadata": {
    "collapsed": false
   },
   "outputs": [
    {
     "name": "stdout",
     "output_type": "stream",
     "text": [
      "array_of_ones =  [[ 1.  1.  1.  1.  1.]\n",
      " [ 1.  1.  1.  1.  1.]\n",
      " [ 1.  1.  1.  1.  1.]\n",
      " [ 1.  1.  1.  1.  1.]\n",
      " [ 1.  1.  1.  1.  1.]]\n",
      "number_array =  [0 1 2 3 4]\n",
      "product =  [[ 0.  1.  2.  3.  4.]\n",
      " [ 0.  1.  2.  3.  4.]\n",
      " [ 0.  1.  2.  3.  4.]\n",
      " [ 0.  1.  2.  3.  4.]\n",
      " [ 0.  1.  2.  3.  4.]]\n"
     ]
    }
   ],
   "source": [
    "array_of_ones = np.ones((5, 5))\n",
    "number_array = np.arange(5).T\n",
    "print 'array_of_ones = ', array_of_ones\n",
    "print 'number_array = ', number_array\n",
    "print 'product = ', array_of_ones*number_array"
   ]
  },
  {
   "cell_type": "markdown",
   "metadata": {},
   "source": [
    "## With a Numpy Matrix\n",
    "\n",
    "There is also a numpy matrix type which allows you to matrix math, including matrix multiplication and solving linear equations"
   ]
  },
  {
   "cell_type": "code",
   "execution_count": 13,
   "metadata": {
    "collapsed": false
   },
   "outputs": [
    {
     "name": "stdout",
     "output_type": "stream",
     "text": [
      "Shape of matrix_of_ones =  (5, 5)\n",
      "Shape of number_matrix =  (5, 1)\n",
      "matrix_of_ones =  [[ 1.  1.  1.  1.  1.]\n",
      " [ 1.  1.  1.  1.  1.]\n",
      " [ 1.  1.  1.  1.  1.]\n",
      " [ 1.  1.  1.  1.  1.]\n",
      " [ 1.  1.  1.  1.  1.]]\n",
      "number_array =  [0 1 2 3 4]\n",
      "product =  [[ 10.]\n",
      " [ 10.]\n",
      " [ 10.]\n",
      " [ 10.]\n",
      " [ 10.]]\n"
     ]
    }
   ],
   "source": [
    "matrix_of_ones = np.matrix(np.ones((5, 5)))\n",
    "number_matrix = np.matrix(np.arange(5)).T\n",
    "print 'Shape of matrix_of_ones = ', matrix_of_ones.shape\n",
    "print 'Shape of number_matrix = ', number_matrix.shape\n",
    "print 'matrix_of_ones = ', matrix_of_ones\n",
    "print 'number_array = ',number_array\n",
    "print 'product = ', matrix_of_ones*number_matrix"
   ]
  },
  {
   "cell_type": "markdown",
   "metadata": {},
   "source": [
    "## Other Useful Numpy Functions\n",
    "#### Calculate the average reservoir levels at the Nicasio Reservoir"
   ]
  },
  {
   "cell_type": "code",
   "execution_count": 14,
   "metadata": {
    "collapsed": false
   },
   "outputs": [
    {
     "data": {
      "text/plain": [
       "21804.416666666668"
      ]
     },
     "execution_count": 14,
     "metadata": {},
     "output_type": "execute_result"
    }
   ],
   "source": [
    "nicasio_2006_storage.mean()\n",
    "#np.mean(nicasio_2006_storage, axis )"
   ]
  },
  {
   "cell_type": "code",
   "execution_count": 15,
   "metadata": {
    "collapsed": false
   },
   "outputs": [
    {
     "data": {
      "text/plain": [
       "22195.0"
      ]
     },
     "execution_count": 15,
     "metadata": {},
     "output_type": "execute_result"
    }
   ],
   "source": [
    "np.median(nicasio_2006_storage)\n",
    "#You can also do np.mean(nicasio_2006_storage)"
   ]
  },
  {
   "cell_type": "markdown",
   "metadata": {},
   "source": [
    "#### Find the maximum or minimum"
   ]
  },
  {
   "cell_type": "code",
   "execution_count": 16,
   "metadata": {
    "collapsed": false
   },
   "outputs": [
    {
     "name": "stdout",
     "output_type": "stream",
     "text": [
      "22430.0\n",
      "20698.0\n"
     ]
    }
   ],
   "source": [
    "print nicasio_2006_storage.max()\n",
    "print nicasio_2006_storage.min()"
   ]
  },
  {
   "cell_type": "markdown",
   "metadata": {},
   "source": [
    "#### Find the sum"
   ]
  },
  {
   "cell_type": "code",
   "execution_count": 17,
   "metadata": {
    "collapsed": false
   },
   "outputs": [
    {
     "data": {
      "text/plain": [
       "261653.0"
      ]
     },
     "execution_count": 17,
     "metadata": {},
     "output_type": "execute_result"
    }
   ],
   "source": [
    "nicasio_2006_storage.sum()"
   ]
  },
  {
   "cell_type": "markdown",
   "metadata": {},
   "source": [
    "### Filtering arrays"
   ]
  },
  {
   "cell_type": "code",
   "execution_count": 18,
   "metadata": {
    "collapsed": false
   },
   "outputs": [
    {
     "data": {
      "text/plain": [
       "array([ True,  True,  True,  True,  True,  True, False, False, False,\n",
       "       False, False,  True], dtype=bool)"
      ]
     },
     "execution_count": 18,
     "metadata": {},
     "output_type": "execute_result"
    }
   ],
   "source": [
    "nicasio_2006_storage > nicasio_2006_storage.mean()"
   ]
  },
  {
   "cell_type": "markdown",
   "metadata": {},
   "source": [
    "This returns an array of booleans (True and False), which corresponds to every element in nicasio_2006_storage and whether that element meets the condition or not.\n",
    "\n",
    "To select value which meet the condition:"
   ]
  },
  {
   "cell_type": "code",
   "execution_count": 19,
   "metadata": {
    "collapsed": false
   },
   "outputs": [
    {
     "name": "stdout",
     "output_type": "stream",
     "text": [
      "mean =  21804.4166667\n",
      "[ 22430.  22430.  22430.  22430.  22395.  21995.  22430.]\n"
     ]
    }
   ],
   "source": [
    "print 'mean = ', nicasio_2006_storage.mean()\n",
    "print nicasio_2006_storage[nicasio_2006_storage > nicasio_2006_storage.mean()]"
   ]
  },
  {
   "cell_type": "markdown",
   "metadata": {},
   "source": [
    "To get the indicies of where a condition is met:"
   ]
  },
  {
   "cell_type": "code",
   "execution_count": 20,
   "metadata": {
    "collapsed": false
   },
   "outputs": [
    {
     "name": "stdout",
     "output_type": "stream",
     "text": [
      "(array([ 0,  1,  2,  3,  4,  5, 11]),)\n"
     ]
    }
   ],
   "source": [
    "indx = np.where(nicasio_2006_storage > nicasio_2006_storage.mean())\n",
    "print indx"
   ]
  },
  {
   "cell_type": "markdown",
   "metadata": {},
   "source": [
    "indexing into the array"
   ]
  },
  {
   "cell_type": "code",
   "execution_count": 21,
   "metadata": {
    "collapsed": false
   },
   "outputs": [
    {
     "data": {
      "text/plain": [
       "array([ 22430.,  22430.,  22430.,  22430.,  22395.,  21995.,  22430.])"
      ]
     },
     "execution_count": 21,
     "metadata": {},
     "output_type": "execute_result"
    }
   ],
   "source": [
    "nicasio_2006_storage[indx]"
   ]
  },
  {
   "cell_type": "markdown",
   "metadata": {},
   "source": [
    "Footnote 1: This is not the explicit purpose of the np.where statement. It is actually much more powerful, this is just the default behavior. When you are ready to learn more, you can look it up. \n",
    "\n",
    "Footnote 2: Using np.where on a list will always return an empty array even if your condition is met"
   ]
  },
  {
   "cell_type": "markdown",
   "metadata": {},
   "source": [
    "## <a href = \"http://docs.scipy.org/doc/numpy/reference/index.html\">More information</a>"
   ]
  },
  {
   "cell_type": "markdown",
   "metadata": {},
   "source": [
    "----------------------------"
   ]
  },
  {
   "cell_type": "markdown",
   "metadata": {},
   "source": [
    "# Matplotlib\n",
    "\n",
    "This is python's most used plotting library. It does just about everything a few different ways. This is both a strength and a weakness. We are going to cover the basics here. There will be more in the next session. \n",
    "\n",
    "The Matplotlib galary is full of examples: <a href = \"http://matplotlib.org/gallery.html\">http://matplotlib.org/gallery.html</a> and a list of plotting commands that I find useful to browse when I'm not quite sure what I'm looking for <a href = \"http://matplotlib.org/api/pyplot_summary.html\">http://matplotlib.org/api/pyplot_summary.html</a>"
   ]
  },
  {
   "cell_type": "markdown",
   "metadata": {},
   "source": [
    "--------------------"
   ]
  },
  {
   "cell_type": "code",
   "execution_count": 22,
   "metadata": {
    "collapsed": false
   },
   "outputs": [],
   "source": [
    "#Load plotting backend\n",
    "#Make plots inside notebook document\n",
    "%matplotlib inline"
   ]
  },
  {
   "cell_type": "code",
   "execution_count": 23,
   "metadata": {
    "collapsed": false
   },
   "outputs": [],
   "source": [
    "from matplotlib import pyplot"
   ]
  },
  {
   "cell_type": "markdown",
   "metadata": {},
   "source": [
    "## Convert date strings to something plotable"
   ]
  },
  {
   "cell_type": "code",
   "execution_count": 25,
   "metadata": {
    "collapsed": false
   },
   "outputs": [
    {
     "name": "stdout",
     "output_type": "stream",
     "text": [
      "[datetime.datetime(2006, 1, 1, 0, 0) datetime.datetime(2006, 2, 1, 0, 0)\n",
      " datetime.datetime(2006, 3, 1, 0, 0) datetime.datetime(2006, 4, 1, 0, 0)\n",
      " datetime.datetime(2006, 5, 1, 0, 0) datetime.datetime(2006, 6, 1, 0, 0)\n",
      " datetime.datetime(2006, 7, 1, 0, 0) datetime.datetime(2006, 8, 1, 0, 0)\n",
      " datetime.datetime(2006, 9, 1, 0, 0) datetime.datetime(2006, 10, 1, 0, 0)\n",
      " datetime.datetime(2006, 11, 1, 0, 0) datetime.datetime(2006, 12, 1, 0, 0)]\n"
     ]
    }
   ],
   "source": [
    "from datetime import datetime\n",
    "\n",
    "nicasio_2006_date_datetime = []\n",
    "for str_date in nicasio_2006_date:\n",
    "    nicasio_2006_date_datetime.append(datetime.strptime(str_date,'%m/%Y'))\n",
    "\n",
    "#Convert list to an array\n",
    "nicasio_2006_date_datetime = np.array(nicasio_2006_date_datetime)\n",
    "print nicasio_2006_date_datetime"
   ]
  },
  {
   "cell_type": "markdown",
   "metadata": {},
   "source": [
    "#### Write a function since we will want to do this for every file"
   ]
  },
  {
   "cell_type": "code",
   "execution_count": 27,
   "metadata": {
    "collapsed": false
   },
   "outputs": [],
   "source": [
    "def convert_string_to_datetime(date_array):\n",
    "    date_datetime = []\n",
    "    for str_date in date_array:\n",
    "        date_datetime.append(datetime.strptime(str_date,'%m/%Y'))\n",
    "    #Convert list to an array\n",
    "    return np.array(date_datetime)"
   ]
  },
  {
   "cell_type": "markdown",
   "metadata": {},
   "source": [
    "#### Most basic plot"
   ]
  },
  {
   "cell_type": "code",
   "execution_count": 28,
   "metadata": {
    "collapsed": false
   },
   "outputs": [
    {
     "data": {
      "text/plain": [
       "[<matplotlib.lines.Line2D at 0x106055990>]"
      ]
     },
     "execution_count": 28,
     "metadata": {},
     "output_type": "execute_result"
    },
    {
     "data": {
      "image/png": "[encoded data removed]",
      "text/plain": [
       "<matplotlib.figure.Figure at 0x10602b150>"
      ]
     },
     "metadata": {},
     "output_type": "display_data"
    }
   ],
   "source": [
    "fig = pyplot.figure(figsize = [10, 5])\n",
    "ax = fig.add_subplot(1,1,1)\n",
    "ax.plot(nicasio_2006_date_datetime, nicasio_2006_storage)"
   ]
  },
  {
   "cell_type": "markdown",
   "metadata": {},
   "source": [
    "#### Add Symbols"
   ]
  },
  {
   "cell_type": "code",
   "execution_count": 29,
   "metadata": {
    "collapsed": false
   },
   "outputs": [
    {
     "data": {
      "text/plain": [
       "[<matplotlib.lines.Line2D at 0x10616af50>]"
      ]
     },
     "execution_count": 29,
     "metadata": {},
     "output_type": "execute_result"
    },
    {
     "data": {
      "image/png": "[encoded data removed]",
      "text/plain": [
       "<matplotlib.figure.Figure at 0x1060c5fd0>"
      ]
     },
     "metadata": {},
     "output_type": "display_data"
    }
   ],
   "source": [
    "fig = pyplot.figure(figsize = [10, 5])\n",
    "ax = fig.add_subplot(1,1,1)\n",
    "ax.plot(nicasio_2006_date_datetime, nicasio_2006_storage, \n",
    "        marker = 'o')"
   ]
  },
  {
   "cell_type": "markdown",
   "metadata": {},
   "source": [
    "#### Make it a dashed line"
   ]
  },
  {
   "cell_type": "code",
   "execution_count": 30,
   "metadata": {
    "collapsed": false
   },
   "outputs": [
    {
     "data": {
      "text/plain": [
       "[<matplotlib.lines.Line2D at 0x106055810>]"
      ]
     },
     "execution_count": 30,
     "metadata": {},
     "output_type": "execute_result"
    },
    {
     "data": {
      "image/png": "[encoded data removed]",
      "text/plain": [
       "<matplotlib.figure.Figure at 0x1061e01d0>"
      ]
     },
     "metadata": {},
     "output_type": "display_data"
    }
   ],
   "source": [
    "fig = pyplot.figure(figsize = [10, 5])\n",
    "ax = fig.add_subplot(1,1,1)\n",
    "ax.plot(nicasio_2006_date_datetime, nicasio_2006_storage, \n",
    "        marker = 'o', \n",
    "        linestyle = '--')"
   ]
  },
  {
   "cell_type": "markdown",
   "metadata": {},
   "source": [
    "#### No line"
   ]
  },
  {
   "cell_type": "code",
   "execution_count": 31,
   "metadata": {
    "collapsed": false
   },
   "outputs": [
    {
     "data": {
      "text/plain": [
       "[<matplotlib.lines.Line2D at 0x1063b0ed0>]"
      ]
     },
     "execution_count": 31,
     "metadata": {},
     "output_type": "execute_result"
    },
    {
     "data": {
      "image/png": "[encoded data removed]",
      "text/plain": [
       "<matplotlib.figure.Figure at 0x106365b10>"
      ]
     },
     "metadata": {},
     "output_type": "display_data"
    }
   ],
   "source": [
    "fig = pyplot.figure(figsize = [10, 5])\n",
    "ax = fig.add_subplot(1,1,1)\n",
    "ax.plot(nicasio_2006_date_datetime, nicasio_2006_storage, \n",
    "        marker = 'o', \n",
    "        linestyle = 'none')"
   ]
  },
  {
   "cell_type": "markdown",
   "metadata": {},
   "source": [
    "Notice that that is a string 'none' not a Null Type None"
   ]
  },
  {
   "cell_type": "markdown",
   "metadata": {},
   "source": [
    "#### Change the color of the symbols\n",
    "\n",
    "There are some abbreviations for colors (e.g. 'r' = 'red'). Matplotlib also accepts RGB tuples, html colors, and word colors."
   ]
  },
  {
   "cell_type": "code",
   "execution_count": 32,
   "metadata": {
    "collapsed": false
   },
   "outputs": [
    {
     "data": {
      "text/plain": [
       "[<matplotlib.lines.Line2D at 0x10635a710>]"
      ]
     },
     "execution_count": 32,
     "metadata": {},
     "output_type": "execute_result"
    },
    {
     "data": {
      "image/png": "[encoded data removed]",
      "text/plain": [
       "<matplotlib.figure.Figure at 0x1066e30d0>"
      ]
     },
     "metadata": {},
     "output_type": "display_data"
    }
   ],
   "source": [
    "fig = pyplot.figure(figsize = [10, 5])\n",
    "ax = fig.add_subplot(1,1,1)\n",
    "ax.plot(nicasio_2006_date_datetime, nicasio_2006_storage, \n",
    "        marker = 'o', \n",
    "        linestyle = '--', \n",
    "        markerfacecolor = 'r')"
   ]
  },
  {
   "cell_type": "markdown",
   "metadata": {},
   "source": [
    "#### Change line color"
   ]
  },
  {
   "cell_type": "code",
   "execution_count": 33,
   "metadata": {
    "collapsed": false
   },
   "outputs": [
    {
     "data": {
      "text/plain": [
       "[<matplotlib.lines.Line2D at 0x106730610>]"
      ]
     },
     "execution_count": 33,
     "metadata": {},
     "output_type": "execute_result"
    },
    {
     "data": {
      "image/png": "[encoded data removed]",
      "text/plain": [
       "<matplotlib.figure.Figure at 0x106864410>"
      ]
     },
     "metadata": {},
     "output_type": "display_data"
    }
   ],
   "source": [
    "fig = pyplot.figure(figsize = [10, 5])\n",
    "ax = fig.add_subplot(1,1,1)\n",
    "ax.plot(nicasio_2006_date_datetime, nicasio_2006_storage, \n",
    "        marker = 'o', \n",
    "        linestyle = '--', \n",
    "        markerfacecolor = 'r',\n",
    "        color = 'lime')"
   ]
  },
  {
   "cell_type": "markdown",
   "metadata": {},
   "source": [
    "#### Label Axes"
   ]
  },
  {
   "cell_type": "code",
   "execution_count": 34,
   "metadata": {
    "collapsed": false
   },
   "outputs": [
    {
     "data": {
      "text/plain": [
       "<matplotlib.text.Text at 0x106898250>"
      ]
     },
     "execution_count": 34,
     "metadata": {},
     "output_type": "execute_result"
    },
    {
     "data": {
      "image/png": "[encoded data removed]",
      "text/plain": [
       "<matplotlib.figure.Figure at 0x1069d9f50>"
      ]
     },
     "metadata": {},
     "output_type": "display_data"
    }
   ],
   "source": [
    "fig = pyplot.figure(figsize = [10, 5])\n",
    "ax = fig.add_subplot(1,1,1)\n",
    "ax.plot(nicasio_2006_date_datetime, nicasio_2006_storage, \n",
    "        marker = 'o', \n",
    "        linestyle = '--', \n",
    "        markerfacecolor = 'r',\n",
    "        color = 'lime')\n",
    "ax.set_xlabel('Date')\n",
    "ax.set_ylabel('Storage Level')"
   ]
  },
  {
   "cell_type": "markdown",
   "metadata": {},
   "source": [
    "#### Title Plot"
   ]
  },
  {
   "cell_type": "code",
   "execution_count": 35,
   "metadata": {
    "collapsed": false
   },
   "outputs": [
    {
     "data": {
      "text/plain": [
       "<matplotlib.text.Text at 0x106bc3d50>"
      ]
     },
     "execution_count": 35,
     "metadata": {},
     "output_type": "execute_result"
    },
    {
     "data": {
      "image/png": "[encoded data removed]",
      "text/plain": [
       "<matplotlib.figure.Figure at 0x106b59910>"
      ]
     },
     "metadata": {},
     "output_type": "display_data"
    }
   ],
   "source": [
    "fig = pyplot.figure(figsize = [10, 5])\n",
    "ax = fig.add_subplot(1,1,1)\n",
    "ax.plot(nicasio_2006_date_datetime, nicasio_2006_storage, \n",
    "        marker = 'o', \n",
    "        linestyle = '--', \n",
    "        markerfacecolor = 'r',\n",
    "        color = 'lime')\n",
    "ax.set_xlabel('Date')\n",
    "ax.set_ylabel('Storage Level')\n",
    "ax.set_title('Nicasio Valley Reservoir Water Levels for 2006')"
   ]
  },
  {
   "cell_type": "markdown",
   "metadata": {},
   "source": [
    "#### Change y limits"
   ]
  },
  {
   "cell_type": "code",
   "execution_count": 36,
   "metadata": {
    "collapsed": false
   },
   "outputs": [
    {
     "data": {
      "text/plain": [
       "(10000, 22500)"
      ]
     },
     "execution_count": 36,
     "metadata": {},
     "output_type": "execute_result"
    },
    {
     "data": {
      "image/png": "[encoded data removed]",
      "text/plain": [
       "<matplotlib.figure.Figure at 0x106de9550>"
      ]
     },
     "metadata": {},
     "output_type": "display_data"
    }
   ],
   "source": [
    "fig = pyplot.figure(figsize = [10, 5])\n",
    "ax = fig.add_subplot(1,1,1)\n",
    "ax.plot(nicasio_2006_date_datetime, nicasio_2006_storage, \n",
    "        marker = 'o', \n",
    "        linestyle = '--', \n",
    "        markerfacecolor = 'r',\n",
    "        color = 'lime')\n",
    "ax.set_xlabel('Date')\n",
    "ax.set_ylabel('Storage Level')\n",
    "ax.set_title('Nicasio Valley Reservoir Water Levels for 2006')\n",
    "ax.set_ylim(10000, 22500)"
   ]
  },
  {
   "cell_type": "markdown",
   "metadata": {},
   "source": [
    "#### Add another dataset"
   ]
  },
  {
   "cell_type": "code",
   "execution_count": 37,
   "metadata": {
    "collapsed": false
   },
   "outputs": [
    {
     "data": {
      "text/plain": [
       "[<matplotlib.lines.Line2D at 0x10710b390>]"
      ]
     },
     "execution_count": 37,
     "metadata": {},
     "output_type": "execute_result"
    },
    {
     "data": {
      "image/png": "[encoded data removed]",
      "text/plain": [
       "<matplotlib.figure.Figure at 0x106f81ad0>"
      ]
     },
     "metadata": {},
     "output_type": "display_data"
    }
   ],
   "source": [
    "nicasio_2014_date, nicasio_2014_storage = np.loadtxt('data/n14.txt', unpack = True,  \n",
    "                                                        dtype={'names': ['date', 'storage'], \n",
    "                                                               'formats': ['S7', 'f8']})\n",
    "nicasio_2014_date_datetime = convert_string_to_datetime(nicasio_2014_date)\n",
    "\n",
    "    \n",
    "fig = pyplot.figure(figsize = [10, 5])\n",
    "ax = fig.add_subplot(1,1,1)\n",
    "ax.plot(nicasio_2006_date_datetime, nicasio_2006_storage, \n",
    "        marker = 'o', \n",
    "        linestyle = '--', \n",
    "        markerfacecolor = 'r',\n",
    "        color = 'lime')\n",
    "ax.set_xlabel('Date')\n",
    "ax.set_ylabel('Storage Level')\n",
    "ax.set_title('Nicasio Valley Reservoir Water Levels')\n",
    "#Convert list to an array\n",
    "nicasio_2014_date_datetime = np.array(nicasio_2014_date_datetime)\n",
    "\n",
    "ax.plot(nicasio_2014_date_datetime, nicasio_2014_storage)"
   ]
  },
  {
   "cell_type": "markdown",
   "metadata": {},
   "source": [
    "#### Add a legend"
   ]
  },
  {
   "cell_type": "code",
   "execution_count": 38,
   "metadata": {
    "collapsed": false
   },
   "outputs": [
    {
     "data": {
      "text/plain": [
       "<matplotlib.legend.Legend at 0x106e36210>"
      ]
     },
     "execution_count": 38,
     "metadata": {},
     "output_type": "execute_result"
    },
    {
     "data": {
      "image/png": "[encoded data removed]",
      "text/plain": [
       "<matplotlib.figure.Figure at 0x10711f550>"
      ]
     },
     "metadata": {},
     "output_type": "display_data"
    }
   ],
   "source": [
    "fig = pyplot.figure(figsize = [10, 5])\n",
    "ax = fig.add_subplot(1,1,1)\n",
    "ax.plot(nicasio_2006_date_datetime, nicasio_2006_storage, \n",
    "        marker = 'o', \n",
    "        linestyle = '--', \n",
    "        markerfacecolor = 'r',\n",
    "        color = 'lime',\n",
    "        label = '2006')\n",
    "ax.set_xlabel('Date')\n",
    "ax.set_ylabel('Storage Level')\n",
    "ax.set_title('Nicasio Valley Reservoir Water Levels')\n",
    "#Convert list to an array\n",
    "nicasio_2014_date_datetime = np.array(nicasio_2014_date_datetime)\n",
    "\n",
    "ax.plot(nicasio_2014_date_datetime, nicasio_2014_storage, \n",
    "        label = '2014')\n",
    "ax.legend(loc = 'best')"
   ]
  },
  {
   "cell_type": "markdown",
   "metadata": {},
   "source": [
    "# Bonus: Putting it all together"
   ]
  },
  {
   "cell_type": "markdown",
   "metadata": {},
   "source": [
    "### Make datetime conversion a function\n",
    "    "
   ]
  },
  {
   "cell_type": "code",
   "execution_count": null,
   "metadata": {
    "collapsed": false
   },
   "outputs": [],
   "source": [
    "import glob\n",
    "import os\n",
    "\n",
    "file_list = glob.glob('data/n*.txt')\n",
    "fig = pyplot.figure(figsize = [10, 5])\n",
    "ax = fig.add_subplot(1,1,1)\n",
    "#loop over each file\n",
    "for ifile in file_list:\n",
    "    #read in data\n",
    "    date, storage = np.loadtxt(ifile, unpack = True,\n",
    "                               dtype={'names': ['date', 'storage'], \n",
    "                               'formats': ['S7', 'f8']})\n",
    "    #Convert string dates to datetime object\n",
    "    date_datetime = convert_string_to_datetime(date)\n",
    "    #Plot the data\n",
    "    ax.plot(date_datetime, storage, \n",
    "        label = os.path.basename(ifile)) #stripe down the path to include just the file name\n",
    "ax.set_xlabel('Date')\n",
    "ax.set_ylabel('Storage Level')\n",
    "ax.set_title('Nicasio Valley Reservoir Water Levels')\n",
    "ax.legend(loc = 'best', ncol = 5)\n",
    "ax.set_ylim(9000, 24000)"
   ]
  },
  {
   "cell_type": "markdown",
   "metadata": {},
   "source": [
    "Here I modified the legend to have 5 columns instead of the default 1 and set the y limit so that the text didn't cover up lines I was plotting"
   ]
  },
  {
   "cell_type": "code",
   "execution_count": null,
   "metadata": {
    "collapsed": false
   },
   "outputs": [],
   "source": []
  }
 ],
 "metadata": {
  "kernelspec": {
   "display_name": "Python 3",
   "language": "python",
   "name": "python3"
  },
  "language_info": {
   "codemirror_mode": {
    "name": "ipython",
    "version": 3
   },
   "file_extension": ".py",
   "mimetype": "text/x-python",
   "name": "python",
   "nbconvert_exporter": "python",
   "pygments_lexer": "ipython3",
   "version": "3.4.3"
  }
 },
 "nbformat": 4,
 "nbformat_minor": 0
}
