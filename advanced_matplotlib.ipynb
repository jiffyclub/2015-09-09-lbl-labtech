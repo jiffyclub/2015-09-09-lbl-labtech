{
 "cells": [
  {
   "cell_type": "markdown",
   "metadata": {},
   "source": [
    "# This is an assortment of things I've commonly wanted to do"
   ]
  },
  {
   "cell_type": "markdown",
   "metadata": {},
   "source": [
    "### Let's get some data"
   ]
  },
  {
   "cell_type": "code",
   "execution_count": 2,
   "metadata": {
    "collapsed": false
   },
   "outputs": [],
   "source": [
    "import numpy as np\n",
    "import pandas as pd"
   ]
  },
  {
   "cell_type": "code",
   "execution_count": 3,
   "metadata": {
    "collapsed": false
   },
   "outputs": [],
   "source": [
    "precip_table_data = pd.read_csv('pandas/precip_data.csv')"
   ]
  },
  {
   "cell_type": "markdown",
   "metadata": {},
   "source": [
    "#### Read in using Pandas read_csv file"
   ]
  },
  {
   "cell_type": "code",
   "execution_count": 4,
   "metadata": {
    "collapsed": false
   },
   "outputs": [],
   "source": [
    "from datetime import datetime\n",
    "def convert_date_to_fractional_year(month, year):    \n",
    "    '''\n",
    "    Given a month and a year, convert to fractional year\n",
    "    Inputs:\n",
    "        month: str\n",
    "            3 letter month of year\n",
    "        year : int\n",
    "            4 digit year\n",
    "    '''\n",
    "    date = datetime.strptime('{} {}'.format(month, year), '%b %Y')\n",
    "    fractional_year = float(date.year) + float(date.month)/12.0\n",
    "    return fractional_year\n"
   ]
  },
  {
   "cell_type": "code",
   "execution_count": 7,
   "metadata": {
    "collapsed": false
   },
   "outputs": [],
   "source": [
    "#Convert all dates to fractional year\n",
    "date = []\n",
    "for month, year in zip(precip_table_data.month, precip_table_data.year):\n",
    "    date.append(convert_date_to_fractional_year(month, year))\n",
    "\n",
    "precip_table_data['date'] = date"
   ]
  },
  {
   "cell_type": "markdown",
   "metadata": {},
   "source": [
    "## Now we can plot"
   ]
  },
  {
   "cell_type": "code",
   "execution_count": 8,
   "metadata": {
    "collapsed": false
   },
   "outputs": [],
   "source": [
    "#Set plotting backend and put plots in the notebook\n",
    "%matplotlib inline"
   ]
  },
  {
   "cell_type": "code",
   "execution_count": 9,
   "metadata": {
    "collapsed": false
   },
   "outputs": [],
   "source": [
    "from matplotlib import pyplot"
   ]
  },
  {
   "cell_type": "markdown",
   "metadata": {},
   "source": [
    "### Most basic plot of monthly precipitation from Gasquet Station"
   ]
  },
  {
   "cell_type": "code",
   "execution_count": 10,
   "metadata": {
    "collapsed": false
   },
   "outputs": [
    {
     "data": {
      "text/plain": [
       "[<matplotlib.lines.Line2D at 0x108fef650>]"
      ]
     },
     "execution_count": 10,
     "metadata": {},
     "output_type": "execute_result"
    },
    {
     "data": {
      "image/png": "[encoded data removed]",
      "text/plain": [
       "<matplotlib.figure.Figure at 0x108d58910>"
      ]
     },
     "metadata": {},
     "output_type": "display_data"
    }
   ],
   "source": [
    "whr = (precip_table_data.abbreviation == 'GAS') & (precip_table_data.year > 2010)\n",
    "pyplot.plot(precip_table_data.date[whr], precip_table_data.precip[whr], 'o')"
   ]
  },
  {
   "cell_type": "markdown",
   "metadata": {},
   "source": [
    "### Plot with figure and subplot objects, axis labels, title, set ylimits"
   ]
  },
  {
   "cell_type": "code",
   "execution_count": 11,
   "metadata": {
    "collapsed": false
   },
   "outputs": [
    {
     "data": {
      "text/plain": [
       "(-5, 30)"
      ]
     },
     "execution_count": 11,
     "metadata": {},
     "output_type": "execute_result"
    },
    {
     "data": {
      "image/png": "[encoded data removed]",
      "text/plain": [
       "<matplotlib.figure.Figure at 0x108fb5510>"
      ]
     },
     "metadata": {},
     "output_type": "display_data"
    }
   ],
   "source": [
    "fig = pyplot.figure()\n",
    "ax = fig.add_subplot(1,1,1)\n",
    "pyplot.plot(precip_table_data.date[whr], precip_table_data.precip[whr], 'o')\n",
    "ax.set_xlabel('Date')\n",
    "ax.set_ylabel('Precipitation')\n",
    "ax.set_title('Precipication at Gasquest Ranger Station')\n",
    "ax.set_ylim(-5, 30)"
   ]
  },
  {
   "cell_type": "markdown",
   "metadata": {},
   "source": [
    "## Make X Axis Pretty\n",
    "\n",
    "This is from Justin Ely's package <a href = \"https://github.com/justincely/astroraf\">astroraf</a>"
   ]
  },
  {
   "cell_type": "code",
   "execution_count": 14,
   "metadata": {
    "collapsed": false
   },
   "outputs": [],
   "source": [
    "def format_axis(precision='%.1f',ticksize=1,axis=None,which='both'):\n",
    "    \"\"\"\n",
    "    from matplotlib.ticker import *\n",
    "    formats axis label precision\n",
    "\n",
    "    \"\"\"\n",
    "\n",
    "    import matplotlib.pyplot as plt\n",
    "    from matplotlib.ticker import FormatStrFormatter\n",
    "\n",
    "    if not axis:\n",
    "        axis = plt.gca()\n",
    "\n",
    "    if which in ('x','X','both'):\n",
    "        axis.xaxis.set_major_formatter(FormatStrFormatter(precision))\n",
    "    if which in ('y','Y','both'):\n",
    "        axis.yaxis.set_major_formatter(FormatStrFormatter(precision))"
   ]
  },
  {
   "cell_type": "code",
   "execution_count": 15,
   "metadata": {
    "collapsed": false
   },
   "outputs": [
    {
     "data": {
      "text/plain": [
       "(-5, 30)"
      ]
     },
     "execution_count": 15,
     "metadata": {},
     "output_type": "execute_result"
    },
    {
     "data": {
      "image/png": "[encoded data removed]",
      "text/plain": [
       "<matplotlib.figure.Figure at 0x108fbf610>"
      ]
     },
     "metadata": {},
     "output_type": "display_data"
    }
   ],
   "source": [
    "fig = pyplot.figure()\n",
    "ax = fig.add_subplot(1,1,1)\n",
    "ax.plot(precip_table_data.date[whr], precip_table_data.precip[whr], 'o')\n",
    "ax.set_xlabel('Date')\n",
    "ax.set_ylabel('Precipitation')\n",
    "ax.set_title('Precipication at Gasquest Ranger Station')\n",
    "#---------\n",
    "format_axis(which = 'x', axis = ax)\n",
    "#---------\n",
    "ax.set_ylim(-5, 30)"
   ]
  },
  {
   "cell_type": "markdown",
   "metadata": {},
   "source": [
    "## Changing tick locations"
   ]
  },
  {
   "cell_type": "code",
   "execution_count": 17,
   "metadata": {
    "collapsed": false
   },
   "outputs": [
    {
     "data": {
      "text/plain": [
       "(-5, 30)"
      ]
     },
     "execution_count": 17,
     "metadata": {},
     "output_type": "execute_result"
    },
    {
     "data": {
      "image/png": "[encoded data removed]",
      "text/plain": [
       "<matplotlib.figure.Figure at 0x10914df90>"
      ]
     },
     "metadata": {},
     "output_type": "display_data"
    }
   ],
   "source": [
    "fig = pyplot.figure()\n",
    "ax = fig.add_subplot(1,1,1)\n",
    "ax.plot(precip_table_data.date[whr], precip_table_data.precip[whr], 'o')\n",
    "ax.set_xlabel('Date')\n",
    "ax.set_ylabel('Precipitation')\n",
    "ax.set_title('Precipication at Gasquet Ranger Station')\n",
    "format_axis(which = 'x', axis = ax)\n",
    "#---------\n",
    "new_xticks = np.arange(2011.0, 2016.0)\n",
    "ax.set_xticks(new_xticks)\n",
    "#---------\n",
    "ax.set_ylim(-5, 30)"
   ]
  },
  {
   "cell_type": "markdown",
   "metadata": {},
   "source": [
    "## Changing tick labels"
   ]
  },
  {
   "cell_type": "code",
   "execution_count": 18,
   "metadata": {
    "collapsed": false
   },
   "outputs": [
    {
     "data": {
      "text/plain": [
       "(-5, 30)"
      ]
     },
     "execution_count": 18,
     "metadata": {},
     "output_type": "execute_result"
    },
    {
     "data": {
      "image/png": "[encoded data removed]",
      "text/plain": [
       "<matplotlib.figure.Figure at 0x1093ce6d0>"
      ]
     },
     "metadata": {},
     "output_type": "display_data"
    }
   ],
   "source": [
    "fig = pyplot.figure()\n",
    "ax = fig.add_subplot(1,1,1)\n",
    "ax.plot(precip_table_data.date[whr], precip_table_data.precip[whr], 'o')\n",
    "ax.set_xlabel('Date')\n",
    "ax.set_ylabel('Precipitation')\n",
    "ax.set_title('Precipication at Gasquet Ranger Station')\n",
    "format_axis(which = 'x', axis = ax)\n",
    "new_xticks = np.arange(2011.0, 2016.0)\n",
    "ax.set_xticks(new_xticks)\n",
    "#---------\n",
    "new_tick_labels = ['Jan 11', 'Jan 12', 'Jan 13', 'Jan 14', 'Jan 15']\n",
    "ax.set_xticklabels(new_tick_labels)\n",
    "#---------\n",
    "ax.set_ylim(-5, 30)"
   ]
  },
  {
   "cell_type": "markdown",
   "metadata": {},
   "source": [
    "## Multipage PDF"
   ]
  },
  {
   "cell_type": "code",
   "execution_count": 20,
   "metadata": {
    "collapsed": false
   },
   "outputs": [],
   "source": [
    "#---------\n",
    "from matplotlib.backends.backend_pdf import PdfPages\n",
    "pp = PdfPages('multipage.pdf')\n",
    "#---------\n",
    "fig = pyplot.figure()\n",
    "ax = fig.add_subplot(1,1,1)\n",
    "ax.plot(precip_table_data.date[whr], precip_table_data.precip[whr], 'o')\n",
    "ax.set_xlabel('Date')\n",
    "ax.set_ylabel('Precipitation')\n",
    "ax.set_title('Precipication at Gasquet Ranger Station')\n",
    "format_axis(which = 'x', axis = ax)\n",
    "ax.set_ylim(-5, 30)\n",
    "#---------\n",
    "pp.savefig()\n",
    "pyplot.close()\n",
    "#---------\n",
    "\n",
    "fig = pyplot.figure()\n",
    "ax = fig.add_subplot(1,1,1)\n",
    "whr = precip_table_data.abbreviation == 'IMP'\n",
    "ax.plot(precip_table_data.date[whr], precip_table_data.precip[whr], 'o')\n",
    "ax.set_xlabel('Date')\n",
    "ax.set_ylabel('Precipitation')\n",
    "ax.set_title('Precipication at Imperial Valley')\n",
    "format_axis(which = 'x', axis = ax)\n",
    "ax.set_ylim(-5, 30)\n",
    "#---------\n",
    "pp.savefig()\n",
    "pyplot.close()\n",
    "pp.close()\n",
    "#---------"
   ]
  },
  {
   "cell_type": "markdown",
   "metadata": {},
   "source": [
    "## Adjust Subplot sizes and locations"
   ]
  },
  {
   "cell_type": "code",
   "execution_count": 21,
   "metadata": {
    "collapsed": false
   },
   "outputs": [
    {
     "data": {
      "image/png": "[encoded data removed]",
      "text/plain": [
       "<matplotlib.figure.Figure at 0x1098b7e50>"
      ]
     },
     "metadata": {},
     "output_type": "display_data"
    }
   ],
   "source": [
    "fig = pyplot.figure()\n",
    "#---------\n",
    "ax1 = fig.add_subplot(2,1,1) \n",
    "#---------\n",
    "whr = precip_table_data.abbreviation == 'GAS'\n",
    "ax1.plot(precip_table_data.date[whr], precip_table_data.precip[whr], 'o')\n",
    "format_axis(which = 'x', axis = ax1)\n",
    "ax1.set_ylim(-5, 30)\n",
    "#---------\n",
    "ax1.set_position([0, 0, 0.2, 0.7]) #[left, bottom, width, height]\n",
    "#---------\n",
    "\n",
    "#---------\n",
    "ax2 = fig.add_subplot(2, 1, 2)\n",
    "#---------\n",
    "whr = precip_table_data.abbreviation == 'IMP'\n",
    "ax2.plot(precip_table_data.date[whr], precip_table_data.precip[whr], 'o')\n",
    "format_axis(which = 'x', axis = ax2)\n",
    "ax2.set_ylim(-5, 30)\n",
    "#---------\n",
    "ax2.set_position([0.3, 0, 0.65, 0.7])\n",
    "#---------"
   ]
  },
  {
   "cell_type": "code",
   "execution_count": null,
   "metadata": {
    "collapsed": false
   },
   "outputs": [],
   "source": []
  }
 ],
 "metadata": {
  "kernelspec": {
   "display_name": "Python 3",
   "language": "python",
   "name": "python3"
  },
  "language_info": {
   "codemirror_mode": {
    "name": "ipython",
    "version": 3
   },
   "file_extension": ".py",
   "mimetype": "text/x-python",
   "name": "python",
   "nbconvert_exporter": "python",
   "pygments_lexer": "ipython3",
   "version": "3.3.5"
  }
 },
 "nbformat": 4,
 "nbformat_minor": 0
}
